{
 "cells": [
  {
   "cell_type": "code",
   "execution_count": null,
   "id": "0ad5d719",
   "metadata": {
    "ExecuteTime": {
     "end_time": "2022-12-02T12:02:42.774855Z",
     "start_time": "2022-12-02T12:02:38.639821Z"
    }
   },
   "outputs": [],
   "source": [
    "#import the numpy library with the alias as np\n",
    "import numpy as np"
   ]
  },
  {
   "cell_type": "code",
   "execution_count": null,
   "id": "b79098fd",
   "metadata": {
    "ExecuteTime": {
     "end_time": "2022-12-02T12:02:42.807453Z",
     "start_time": "2022-12-02T12:02:42.790480Z"
    }
   },
   "outputs": [],
   "source": [
    "#to create a one dimensional array from a list using the numpy builtin function\n",
    "b = np.array([1,2,3,4,5])"
   ]
  },
  {
   "cell_type": "code",
   "execution_count": null,
   "id": "334ab455",
   "metadata": {
    "ExecuteTime": {
     "end_time": "2022-12-02T12:02:43.229432Z",
     "start_time": "2022-12-02T12:02:42.926357Z"
    }
   },
   "outputs": [],
   "source": [
    "print(type(b))"
   ]
  },
  {
   "cell_type": "markdown",
   "id": "74515ef5",
   "metadata": {
    "ExecuteTime": {
     "end_time": "2022-11-28T02:34:12.723797Z",
     "start_time": "2022-11-28T02:34:12.701799Z"
    }
   },
   "source": [
    "**The numpy array function comes with builtin attributes, that provides information about the array**\n",
    "\n",
    "\n",
    " **.dtype -shows the datatype of the elements of the array in memory**\n",
    " \n",
    " **.shape - tells the shape of the array in each dimension**\n",
    " \n",
    " **.ndim - tells the number of dimensions of the array**\n",
    " \n",
    " **.size - tells the numberer of elements in the array**"
   ]
  },
  {
   "cell_type": "code",
   "execution_count": null,
   "id": "5bc9df21",
   "metadata": {
    "ExecuteTime": {
     "end_time": "2022-12-02T12:02:45.014887Z",
     "start_time": "2022-12-02T12:02:44.973887Z"
    }
   },
   "outputs": [],
   "source": [
    "#the shape of b array\n",
    "b.shape"
   ]
  },
  {
   "cell_type": "code",
   "execution_count": null,
   "id": "4913d5fc",
   "metadata": {
    "ExecuteTime": {
     "end_time": "2022-12-02T12:02:45.962816Z",
     "start_time": "2022-12-02T12:02:45.943816Z"
    }
   },
   "outputs": [],
   "source": [
    "b.dtype\n",
    "#the output shows the elements of the array is stored in memory as signed 32-bit integer"
   ]
  },
  {
   "cell_type": "code",
   "execution_count": null,
   "id": "01e02d57",
   "metadata": {
    "ExecuteTime": {
     "end_time": "2022-12-02T12:02:46.842318Z",
     "start_time": "2022-12-02T12:02:46.824320Z"
    }
   },
   "outputs": [],
   "source": [
    "#the number od dimension(s) in the array b\n",
    "b.ndim"
   ]
  },
  {
   "cell_type": "code",
   "execution_count": null,
   "id": "a82bf53a",
   "metadata": {
    "ExecuteTime": {
     "end_time": "2022-12-02T12:02:47.664320Z",
     "start_time": "2022-12-02T12:02:47.646320Z"
    }
   },
   "outputs": [],
   "source": [
    "#the number of elements in the array\n",
    "b.size"
   ]
  },
  {
   "cell_type": "code",
   "execution_count": null,
   "id": "12b81c73",
   "metadata": {
    "ExecuteTime": {
     "end_time": "2022-12-02T12:02:48.433316Z",
     "start_time": "2022-12-02T12:02:48.418321Z"
    }
   },
   "outputs": [],
   "source": [
    "\"\"\"\n",
    "The dtype of the elements in the array is set by default by the function \n",
    "depending on the datatype of the elements in the array\n",
    "although, the dtype could be set explicitly, when creatinng the array\"\"\"\n",
    "\n",
    "my_array = np.array([2,4,2,5], dtype=np.uint8)"
   ]
  },
  {
   "cell_type": "code",
   "execution_count": null,
   "id": "76ff995a",
   "metadata": {
    "ExecuteTime": {
     "end_time": "2022-12-02T12:02:49.252018Z",
     "start_time": "2022-12-02T12:02:49.238017Z"
    }
   },
   "outputs": [],
   "source": [
    "\"\"\"\n",
    "creating a two dimensional array, \n",
    "its like one or more 1-dimensional nested in another array, hence two dimension\n",
    " a = [3,4,6,7] --- one dimension\n",
    " x = [0,1,7,9]\n",
    " b = [ a , x ] ==> [ [3,4,6,7],[0,1,7,9] ] --- two dimension\n",
    "the shape of the arrays must be the same. i.e a.shape == b.shape\"\"\"\n",
    "\n",
    "c = np.array([[1,3,5,2],[2,4,6,2]])"
   ]
  },
  {
   "cell_type": "code",
   "execution_count": null,
   "id": "150682ca",
   "metadata": {
    "ExecuteTime": {
     "end_time": "2022-12-02T12:02:50.073597Z",
     "start_time": "2022-12-02T12:02:50.051596Z"
    }
   },
   "outputs": [],
   "source": [
    "c"
   ]
  },
  {
   "cell_type": "code",
   "execution_count": null,
   "id": "90d5a694",
   "metadata": {
    "ExecuteTime": {
     "end_time": "2022-12-02T12:02:50.911607Z",
     "start_time": "2022-12-02T12:02:50.894597Z"
    }
   },
   "outputs": [],
   "source": [
    "\"\"\"\n",
    "In two dimensional array, the shape attribute returns a tuple that tells the number of element\n",
    "In each dimension. it is best viewed as rows and columns\n",
    "ex. c.shape returns a tuple ==> (2, 4)\n",
    "this indicates that there are two rows (two elements in one axis) and 4 columns (4 elements in the other axis)\n",
    "\"\"\"\n",
    "c.shape"
   ]
  },
  {
   "cell_type": "code",
   "execution_count": null,
   "id": "e6b8ce40",
   "metadata": {
    "ExecuteTime": {
     "end_time": "2022-12-02T12:02:51.687215Z",
     "start_time": "2022-12-02T12:02:51.674187Z"
    }
   },
   "outputs": [],
   "source": [
    "#for a 2-d array the shape tells us that the number of rows and columns in the array\n",
    "#the are two elements along one axis and four elements along the other axis"
   ]
  },
  {
   "cell_type": "code",
   "execution_count": null,
   "id": "f38355ad",
   "metadata": {
    "ExecuteTime": {
     "end_time": "2022-12-02T12:02:52.493702Z",
     "start_time": "2022-12-02T12:02:52.481729Z"
    }
   },
   "outputs": [],
   "source": [
    "#creating an array of strings\n",
    "str_array = np.array([\"Elijah\", \"Echekwu\"])"
   ]
  },
  {
   "cell_type": "code",
   "execution_count": null,
   "id": "796567ef",
   "metadata": {
    "ExecuteTime": {
     "end_time": "2022-12-02T12:02:53.303928Z",
     "start_time": "2022-12-02T12:02:53.281926Z"
    }
   },
   "outputs": [],
   "source": [
    "\"\"\"\n",
    "checking the dtype, remenber by the dtype is set based on the datatype of\n",
    "the elements as seen on creation of the array\n",
    "i.e the string below is saved as a Unicode of seven characters\n",
    "\"\"\"\n",
    "str_array.dtype"
   ]
  },
  {
   "cell_type": "code",
   "execution_count": null,
   "id": "0cfc9970",
   "metadata": {
    "ExecuteTime": {
     "end_time": "2022-12-02T12:02:54.151877Z",
     "start_time": "2022-12-02T12:02:54.137874Z"
    }
   },
   "outputs": [],
   "source": [
    "#Examples\n",
    "data_array = np.array([[4.1,2,2.0],[6.3,7.5,2], [3,4.5,7.5]])"
   ]
  },
  {
   "cell_type": "code",
   "execution_count": null,
   "id": "1cdcc83c",
   "metadata": {
    "ExecuteTime": {
     "end_time": "2022-12-02T12:02:54.959892Z",
     "start_time": "2022-12-02T12:02:54.917893Z"
    }
   },
   "outputs": [],
   "source": [
    "data_array"
   ]
  },
  {
   "cell_type": "code",
   "execution_count": null,
   "id": "4fc91e91",
   "metadata": {
    "ExecuteTime": {
     "end_time": "2022-12-02T12:02:55.703502Z",
     "start_time": "2022-12-02T12:02:55.683480Z"
    }
   },
   "outputs": [],
   "source": [
    "data_array.dtype"
   ]
  },
  {
   "cell_type": "code",
   "execution_count": null,
   "id": "75cfa89c",
   "metadata": {
    "ExecuteTime": {
     "end_time": "2022-12-02T12:02:56.547434Z",
     "start_time": "2022-12-02T12:02:56.534481Z"
    }
   },
   "outputs": [],
   "source": [
    "\"\"\"\n",
    "Numpy array can only contain elements of the same data type\n",
    "i.e: for the array below, it's integer elements are casted to string and saved\n",
    "\"\"\"\n",
    "new_array = np.array([1,3,6, \"k\", \"maths\", \"regression\"])"
   ]
  },
  {
   "cell_type": "code",
   "execution_count": null,
   "id": "9b96b5df",
   "metadata": {
    "ExecuteTime": {
     "end_time": "2022-12-02T12:02:57.314084Z",
     "start_time": "2022-12-02T12:02:57.297043Z"
    }
   },
   "outputs": [],
   "source": [
    "print(type(new_array))\n",
    "print(new_array.dtype)\n",
    "print(new_array)"
   ]
  },
  {
   "cell_type": "code",
   "execution_count": null,
   "id": "9c09e9d8",
   "metadata": {
    "ExecuteTime": {
     "end_time": "2022-12-02T12:02:58.197735Z",
     "start_time": "2022-12-02T12:02:58.182724Z"
    }
   },
   "outputs": [],
   "source": [
    "#saving an array to use later\n",
    "np.save(\"saved01\", new_array)"
   ]
  },
  {
   "cell_type": "code",
   "execution_count": null,
   "id": "86a44f42",
   "metadata": {
    "ExecuteTime": {
     "end_time": "2022-12-02T12:02:59.469971Z",
     "start_time": "2022-12-02T12:02:58.993958Z"
    }
   },
   "outputs": [],
   "source": [
    "#load an array, load a saved array\n",
    "my_array = np.load(\"saved01.npy\")"
   ]
  },
  {
   "cell_type": "code",
   "execution_count": null,
   "id": "970d33db",
   "metadata": {
    "ExecuteTime": {
     "end_time": "2022-12-02T12:02:59.831411Z",
     "start_time": "2022-12-02T12:02:59.786404Z"
    }
   },
   "outputs": [],
   "source": [
    "my_array"
   ]
  },
  {
   "cell_type": "code",
   "execution_count": null,
   "id": "d07700b8",
   "metadata": {
    "ExecuteTime": {
     "end_time": "2022-12-02T12:03:03.242194Z",
     "start_time": "2022-12-02T12:03:03.224191Z"
    }
   },
   "outputs": [],
   "source": [
    "\"\"\"\n",
    "Numpy Built in Functions\n",
    "\"\"\"\n"
   ]
  },
  {
   "cell_type": "code",
   "execution_count": null,
   "id": "343822a5",
   "metadata": {
    "ExecuteTime": {
     "end_time": "2022-12-02T12:03:12.289598Z",
     "start_time": "2022-12-02T12:03:12.270576Z"
    }
   },
   "outputs": [],
   "source": [
    "\"\"\"\n",
    "The function np.zeros(shape) creates an ndarray full \n",
    "of zeros with the given shape\n",
    "We create a 4 x 4 ndarray full of zeros.\n",
    "\"\"\" \n",
    "X = np.zeros((4,4))\n",
    "print(f\"array:  \\n {X}\")\n",
    "print(f\"\\n type: {type(X)}\")\n",
    "print(f\"\\n shape: {X.shape} \")"
   ]
  },
  {
   "cell_type": "code",
   "execution_count": null,
   "id": "b39e3f95",
   "metadata": {
    "ExecuteTime": {
     "end_time": "2022-12-02T12:03:13.848669Z",
     "start_time": "2022-12-02T12:03:13.829665Z"
    }
   },
   "outputs": [],
   "source": [
    "\"\"\"\n",
    "np.ones() function. Just like the np.zeros() function, \n",
    "the np.ones() function takes as an argument the shape of the ndarray youwant to make.\n",
    "# We create a 4 x 2 ndarray full of ones. \"\"\"\n",
    "X = np.ones((4,2))\n",
    "\n",
    "print(f\"array:  \\n {X}\")\n",
    "print(f\"\\n type: {type(X)}\")\n",
    "print(f\"\\n shape: {X.shape} \")"
   ]
  },
  {
   "cell_type": "code",
   "execution_count": null,
   "id": "1c408e04",
   "metadata": {
    "ExecuteTime": {
     "end_time": "2022-12-02T12:03:14.917626Z",
     "start_time": "2022-12-02T12:03:14.899628Z"
    }
   },
   "outputs": [],
   "source": [
    "\"\"\"\n",
    "the np.full() function. The np.full(shape, constant value) function \n",
    "takes two arguments. The first argument is the shape of the ndarray you \n",
    "want to make and the second is the constant value you want to populate the \n",
    "array with\n",
    "create a 6 x 2 ndarray full of threes. \n",
    "\"\"\"\n",
    "X = np.full((6,2), 3)\n",
    "\n",
    "print(f\"array:  \\n {X}\")\n",
    "print(f\"\\n type: {type(X)}\")\n",
    "print(f\"\\n shape: {X.shape} \")"
   ]
  },
  {
   "cell_type": "code",
   "execution_count": null,
   "id": "f650cbc6",
   "metadata": {
    "ExecuteTime": {
     "end_time": "2022-12-02T12:03:15.867626Z",
     "start_time": "2022-12-02T12:03:15.796627Z"
    }
   },
   "outputs": [],
   "source": [
    "\"\"\"\n",
    "The function np.eye(N) creates a square N x N ndarray corresponding to the \n",
    "Identity matrix. Since all Identity Matrices are square, the np.eye() function \n",
    "only takes a single integer as an argument.\n",
    "# We create a 5 x 5 Identity matrix. \n",
    "\"\"\"\n",
    "X = np.eye(5)\n",
    "\n",
    "print(f\"array:  \\n {X}\")\n",
    "print(f\"\\n type: {type(X)}\")\n",
    "print(f\"\\n shape: {X.shape} \")"
   ]
  },
  {
   "cell_type": "code",
   "execution_count": null,
   "id": "505c480a",
   "metadata": {
    "ExecuteTime": {
     "end_time": "2022-12-02T12:03:16.645627Z",
     "start_time": "2022-12-02T12:03:16.620625Z"
    }
   },
   "outputs": [],
   "source": [
    "\"\"\"\n",
    "The np.diag() function. A diagonal matrix is a square matrix that only has \n",
    "values in its main diagonal. The np.diag() function creates an ndarray \n",
    "corresponding to a diagonal matrix \n",
    "Create a 4 x 4 diagonal matrix that contains the numbers 10,20,30, and 50\n",
    "on its main diagonal\n",
    "it takes a parameter k, by default k=0, corresponding to the main diagonal\n",
    "to move upward or downward the diagonal, increment/ decrement k by 1\n",
    "i. e \n",
    "one step downward from the main diagonal k=-1\n",
    "two step downward from the main diagonal k=-2 \n",
    "vice versa for upward movement\n",
    "\"\"\"\n",
    "X = np.diag([10,20,30,50])\n",
    "\n",
    "print(f\"array:  \\n {X}\")\n",
    "print(f\"\\n type: {type(X)}\")\n",
    "print(f\"\\n shape: {X.shape} \")"
   ]
  },
  {
   "cell_type": "code",
   "execution_count": null,
   "id": "7ec40d53",
   "metadata": {
    "ExecuteTime": {
     "end_time": "2022-12-02T12:03:17.491625Z",
     "start_time": "2022-12-02T12:03:17.471624Z"
    }
   },
   "outputs": [],
   "source": [
    "X = np.diag([10,20,30,50], k=1)\n",
    "\n",
    "print(f\"array:  \\n {X}\")\n",
    "print(f\"\\n type: {type(X)}\")\n",
    "print(f\"\\n shape: {X.shape} \")"
   ]
  },
  {
   "cell_type": "code",
   "execution_count": null,
   "id": "f7de6372",
   "metadata": {
    "ExecuteTime": {
     "end_time": "2022-12-02T12:03:18.556208Z",
     "start_time": "2022-12-02T12:03:18.538209Z"
    }
   },
   "outputs": [],
   "source": [
    "X = np.diag([10,20,30,50], k=-1)\n",
    "\n",
    "print(f\"array:  \\n {X}\")\n",
    "print(f\"\\n type: {type(X)}\")\n",
    "print(f\"\\n shape: {X.shape} \")"
   ]
  },
  {
   "cell_type": "code",
   "execution_count": null,
   "id": "0da446d0",
   "metadata": {
    "ExecuteTime": {
     "end_time": "2022-12-02T12:03:19.402214Z",
     "start_time": "2022-12-02T12:03:19.338209Z"
    }
   },
   "outputs": [],
   "source": [
    "\"\"\"numpy.arange\n",
    "numpy.arange([start, ]stop, [step, ]dtype=None)\n",
    "It returns evenly spaced values within a given interval.\n",
    "When used with only one argument, np.arange(N) will create a rank 1 ndarray \n",
    "with consecutive integers between 0 and N - 1\n",
    "\n",
    "\n",
    "When used with two arguments, np.arange(start,stop) will create a rank 1 \n",
    "ndarray with evenly spaced values within the half-open interval [start, stop).\n",
    " This means the evenly spaced numbers will include start but exclude stop\"\"\"\n",
    "# We create a rank 1 ndarray that has sequential integers from 4 to 9. \n",
    "x = np.arange(4,10)\n",
    "print(x)\n",
    "\n",
    "# We create a rank 1 ndarray that has sequential integers from 0 to 9\n",
    "x = np.arange(10)\n",
    "print(x)                                                              "
   ]
  },
  {
   "cell_type": "code",
   "execution_count": null,
   "id": "e3a1b916",
   "metadata": {
    "ExecuteTime": {
     "end_time": "2022-12-02T12:03:20.261212Z",
     "start_time": "2022-12-02T12:03:20.235207Z"
    }
   },
   "outputs": [],
   "source": [
    "\"\"\"numpy.linspace\n",
    "\n",
    "numpy.linspace(start, stop, num=50, endpoint=True, retstep=False, dtype=None, axis=0)\n",
    "It returns num evenly spaced values calculated over the interval [start, stop]\n",
    "The np.linspace(start, stop, N) function returns N evenly spaced numbers over \n",
    "the closed interval [start, stop]. \n",
    "This means that both the start and thestop values are included.\n",
    "We should also note the np.linspace() function needs to be called with at least two arguments \n",
    "in the form np.linspace(start,stop). \n",
    "\n",
    "In this case, the default number of elements in the specified interval will be \n",
    "N= 50. The reason np.linspace() works better than the np.arange() function, \n",
    "is that np.linspace() uses the number of elements we want in a particular \n",
    "interval, instead of the step between values\"\"\"\n",
    "# We create a rank 1 ndarray that has 10 integers evenly spaced between 0 and 25.\n",
    "x = np.linspace(0,25,10)\n",
    "print(x)\n",
    "\n",
    "\"\"\"\n",
    "However, you can let the endpoint of the interval be excluded (just like in the np.arange() function) \n",
    "by setting the keyword endpoint = False in the np.linspace() function.\n",
    "\"\"\" \n",
    "# We create a rank 1 ndarray that has 10 integers evenly spaced between 0 and 25,\n",
    "# with 25 excluded.\n",
    "x = np.linspace(0,25,10, endpoint = False)\n",
    "print(x)"
   ]
  },
  {
   "cell_type": "code",
   "execution_count": null,
   "id": "b7bed903",
   "metadata": {
    "ExecuteTime": {
     "end_time": "2022-12-02T12:03:21.248019Z",
     "start_time": "2022-12-02T12:03:21.227019Z"
    }
   },
   "outputs": [],
   "source": [
    "\"\"\"numpy.reshape - This is a Function.\n",
    "numpy.reshape(array, newshape, order='C')[source]\n",
    "The np.reshape(ndarray, new_shape) function converts the given ndarray into \n",
    "the specified new_shape. It is important to note that the new_shape should be \n",
    "compatible with the number of elements in the given ndarray. For example, you \n",
    "can convert a rank 1 ndarray with 6 elements, into a 3 x 2 rank 2 ndarray, or \n",
    "a 2 x 3 rank 2 ndarray, since both of these rank 2 arrays will have a total of\n",
    "6 elements. However, you can't reshape the rank 1 ndarray with 6 elements into \n",
    "a 3 x 3 rank 2 ndarray, since this rank 2 array will have 9 elements, \n",
    "which is greater than the number of elements in the original ndarray\n",
    "\"\"\"\n",
    "# We create a rank 1 ndarray with sequential integers from 0 to 19 (20 elements in total)\n",
    "x = np.arange(20)\n",
    "\n",
    "# We reshape x into a 4 x 5 ndarray \n",
    "x = np.reshape(x, (4,5))\n",
    "\n",
    "\n",
    "print(f\"array:  \\n {X}\")\n",
    "print(f\"\\n type: {type(X)}\")\n",
    "print(f\"\\n shape: {X.shape} \")\n"
   ]
  },
  {
   "cell_type": "code",
   "execution_count": null,
   "id": "9fc494aa",
   "metadata": {
    "ExecuteTime": {
     "end_time": "2022-12-02T12:03:22.221019Z",
     "start_time": "2022-12-02T12:03:22.198021Z"
    }
   },
   "outputs": [],
   "source": [
    "\"\"\"numpy.ndarray.reshape - This one is a Method.\n",
    "ndarray.reshape(shape, order='C')\n",
    "It returns an array containing the same data with a new shape.\"\"\"\n",
    "\n",
    "# We create a a rank 1 ndarray with sequential integers from 0 to 19 and\n",
    "# reshape it to a 4 x 5 array \n",
    "Y = np.arange(20).reshape(4, 5)\n",
    "\n",
    "# We create a rank 1 ndarray with 10 integers evenly spaced between 0 and 50,\n",
    "# with 50 excluded. We then reshape it to a 5 x 2 ndarray\n",
    "X = np.linspace(0,50,10, endpoint=False).reshape(5,2)\n",
    "\n",
    "\n",
    "print(f\"array:  \\n {X}\")\n",
    "print(f\"\\n type: {type(X)}\")\n",
    "print(f\"\\n shape: {X.shape} \")"
   ]
  },
  {
   "cell_type": "code",
   "execution_count": null,
   "id": "8a6f5c3d",
   "metadata": {
    "ExecuteTime": {
     "end_time": "2022-12-02T12:03:23.092979Z",
     "start_time": "2022-12-02T12:03:22.997985Z"
    }
   },
   "outputs": [],
   "source": [
    "\"\"\"\n",
    "Random ndarrays are arrays that contain random numbers. \n",
    "Often in Machine Learning, you need to create random matrices, \n",
    "for example, when initializing the weights of a Neural Network. \n",
    "NumPy offers a variety of random functions to help us create random ndarrays of any shape.\n",
    "\n",
    "the np.random.random(shape) function to create an ndarray of the given shape \n",
    "with random floats in the half-open interval [0.0, 1.0).\n",
    "\"\"\"\n",
    "\n",
    "\n",
    "# We create a 3 x 3 ndarray with random floats in the half-open interval [0.0, 1.0).\n",
    "X = np.random.random((3,3))\n",
    "\n",
    "\n",
    "print(f\"array:  \\n {X}\")\n",
    "print(f\"\\n type: {type(X)}\")\n",
    "print(f\"\\n shape: {X.shape} \")"
   ]
  },
  {
   "cell_type": "code",
   "execution_count": null,
   "id": "78f64471",
   "metadata": {
    "ExecuteTime": {
     "end_time": "2022-12-02T12:03:24.034017Z",
     "start_time": "2022-12-02T12:03:23.946020Z"
    }
   },
   "outputs": [],
   "source": [
    "\"\"\" \n",
    "The function np.random.randint(start, stop, size = shape) creates an ndarray \n",
    "of the given shape with random integers in the half-open interval [start, stop)\n",
    "\"\"\"\n",
    "# We create a 3 x 2 ndarray with random integers in the half-open interval [4, 15).\n",
    "X = np.random.randint(4,15,size=(3,2))\n",
    "\n",
    "\n",
    "print(f\"array:  \\n {X}\")\n",
    "print(f\"\\n type: {type(X)}\")\n",
    "print(f\"\\n shape: {X.shape} \")"
   ]
  },
  {
   "cell_type": "code",
   "execution_count": null,
   "id": "88f6e5b9",
   "metadata": {
    "ExecuteTime": {
     "end_time": "2022-12-02T12:03:25.024994Z",
     "start_time": "2022-12-02T12:03:24.822021Z"
    }
   },
   "outputs": [],
   "source": [
    "\"\"\"\n",
    "The function np.random.normal(mean, standard deviation, size=shape), \n",
    "for example, creates an ndarray with the given shape that contains random \n",
    "numbers picked from a normal (Gaussian) distribution with the given mean and standard deviation\n",
    "\"\"\"\n",
    "# We create a 1000 x 1000 ndarray of random floats drawn from normal (Gaussian) distribution\n",
    "# with a mean of zero and a standard deviation of 0.1.\n",
    "X = np.random.normal(0, 0.1, size=(1000,1000))\n",
    "\n",
    "\n",
    "print(f\"array:  \\n {X}\")\n",
    "print(f\"\\n type: {type(X)}\")\n",
    "print(f\"\\n shape: {X.shape} \")\n"
   ]
  },
  {
   "cell_type": "code",
   "execution_count": null,
   "id": "ae30fdbb",
   "metadata": {
    "ExecuteTime": {
     "end_time": "2022-12-02T12:03:25.750019Z",
     "start_time": "2022-12-02T12:03:25.733018Z"
    }
   },
   "outputs": [],
   "source": [
    "\"\"\"\n",
    "Accessing and slicing elements in an array\n",
    "\n",
    "\"\"\"\n"
   ]
  },
  {
   "cell_type": "code",
   "execution_count": null,
   "id": "ca8d9be0",
   "metadata": {
    "ExecuteTime": {
     "end_time": "2022-12-02T12:03:26.600018Z",
     "start_time": "2022-12-02T12:03:26.578021Z"
    }
   },
   "outputs": [],
   "source": [
    "\"\"\" 1-dimensional array\n",
    "just like list, numpy array are zero-indexed\n",
    "and can be access form the last element usong negative indexing.\n",
    "numpy one dimensional array can be sliced like list, [start: stop] \n",
    "note: start is inclusive but stop is excluded\n",
    "\"\"\"\n",
    "\n",
    "my_arr = np.array([3,2,7,9,1,3,5])\n",
    "my_arr"
   ]
  },
  {
   "cell_type": "code",
   "execution_count": null,
   "id": "c6fbb0a5",
   "metadata": {
    "ExecuteTime": {
     "end_time": "2022-12-02T12:03:27.492023Z",
     "start_time": "2022-12-02T12:03:27.478022Z"
    }
   },
   "outputs": [],
   "source": [
    "#to access the first element\n",
    "print(my_arr[0])\n",
    "\n",
    "#to access the last element\n",
    "print(my_arr[-1])\n",
    "\n",
    "#to access the third element\n",
    "print(my_arr[2])"
   ]
  },
  {
   "cell_type": "code",
   "execution_count": null,
   "id": "2416b1e0",
   "metadata": {
    "ExecuteTime": {
     "end_time": "2022-12-02T12:03:28.373561Z",
     "start_time": "2022-12-02T12:03:28.357556Z"
    }
   },
   "outputs": [],
   "source": [
    "#to slice from the first element to the fourth element\n",
    "print(my_arr[0:5]) \n",
    "\n",
    "#to slice from the third to the last element\n",
    "print(my_arr[2:])  \n"
   ]
  },
  {
   "cell_type": "code",
   "execution_count": null,
   "id": "0f4925a8",
   "metadata": {
    "ExecuteTime": {
     "end_time": "2022-12-02T12:03:29.317759Z",
     "start_time": "2022-12-02T12:03:29.296757Z"
    }
   },
   "outputs": [],
   "source": [
    "\"\"\" 2-Dimensional array\n",
    "Two dimensional array is sliced and accessed differently form on dimensional array\n",
    "\n",
    "\"\"\"\n",
    "\n",
    "#create a 2d array\n",
    "ny_arr = np.arange(1,21).reshape(4,5)\n",
    "ny_arr"
   ]
  },
  {
   "cell_type": "code",
   "execution_count": null,
   "id": "369a835d",
   "metadata": {
    "ExecuteTime": {
     "end_time": "2022-12-02T12:03:30.201758Z",
     "start_time": "2022-12-02T12:03:30.181760Z"
    }
   },
   "outputs": [],
   "source": [
    "#to access the first row\n",
    "print(ny_arr[0])\n",
    "\n",
    "#to access the third row\n",
    "print(ny_arr[2])\n",
    "\n",
    "#to access the third element on the fist row, i.e (row_idx, col_idx) ==> (0, 3)\n",
    "print(ny_arr[0,3])\n",
    "\n",
    "#to access the third element on the 4th row, i.e (row_idx, col_idx) ==> (3, 2)\n",
    "print(ny_arr[3,2])\n",
    "\n",
    "#to access any element in a 2d array, you must indicates it's location in the array\n",
    "#i.e it's row and col index i.e (row_idx, col_idx)\n",
    "#to access the number 20 in the array \n",
    "print(ny_arr[3, 4])\n",
    "\n",
    "#try accessing element 5, 11, 16"
   ]
  },
  {
   "cell_type": "code",
   "execution_count": null,
   "id": "2a3cb771",
   "metadata": {},
   "outputs": [],
   "source": []
  },
  {
   "attachments": {
    "image.png": {
     "image/png": "[encoded data removed]"
    }
   },
   "cell_type": "markdown",
   "id": "c4427302",
   "metadata": {},
   "source": [
    "![image.png](attachment:image.png)"
   ]
  },
  {
   "attachments": {
    "001.png": {
     "image/png": "[encoded data removed]"
    }
   },
   "cell_type": "markdown",
   "id": "a9afd058",
   "metadata": {
    "ExecuteTime": {
     "end_time": "2022-12-02T05:23:07.568848Z",
     "start_time": "2022-12-02T05:23:07.419842Z"
    }
   },
   "source": [
    "![001.png](attachment:001.png)"
   ]
  },
  {
   "cell_type": "code",
   "execution_count": null,
   "id": "884e17b3",
   "metadata": {
    "ExecuteTime": {
     "end_time": "2022-12-02T12:03:35.502916Z",
     "start_time": "2022-12-02T12:03:35.481900Z"
    }
   },
   "outputs": [],
   "source": [
    "#slicing 2d array.\n",
    "#slicing on 2d array to get sub array from the main array\n",
    "\n",
    "#array[row_slice, col_slice] ==>  array[ row_start_idx:row_stop_idx  , col_start_idx: col_stop_idx]\n",
    "#slice of an array to get a sub array with element\n",
    "ny_arr[1:3, 1:5]"
   ]
  },
  {
   "attachments": {
    "002.png": {
     "image/png": "[encoded data removed]"
    }
   },
   "cell_type": "markdown",
   "id": "1efebfa8",
   "metadata": {},
   "source": [
    "![002.png](attachment:002.png)"
   ]
  },
  {
   "cell_type": "code",
   "execution_count": null,
   "id": "d9737f86",
   "metadata": {
    "ExecuteTime": {
     "end_time": "2022-12-02T12:03:37.399779Z",
     "start_time": "2022-12-02T12:03:37.377775Z"
    }
   },
   "outputs": [],
   "source": [
    "#array[ row_start_idx:row_stop_idx  , col_start_idx: col_stop_idx] ==> [2: ,0:2]\n",
    "ny_arr[2: ,0:2]"
   ]
  },
  {
   "attachments": {
    "003.png": {
     "image/png": "[encoded data removed]"
    }
   },
   "cell_type": "markdown",
   "id": "efde42eb",
   "metadata": {},
   "source": [
    "![003.png](attachment:003.png)"
   ]
  },
  {
   "cell_type": "code",
   "execution_count": null,
   "id": "239bf5dc",
   "metadata": {
    "ExecuteTime": {
     "end_time": "2022-12-02T12:03:39.415208Z",
     "start_time": "2022-12-02T12:03:39.387208Z"
    }
   },
   "outputs": [],
   "source": [
    "#array[ row_start_idx:row_stop_idx  , col_start_idx: col_stop_idx] ==> [ : , 2] (all row, col_3 )\n",
    "ny_arr[: , 2]"
   ]
  },
  {
   "attachments": {
    "004.png": {
     "image/png": "[encoded data removed]"
    }
   },
   "cell_type": "markdown",
   "id": "c8d27dc6",
   "metadata": {
    "ExecuteTime": {
     "end_time": "2022-12-02T05:23:09.107247Z",
     "start_time": "2022-12-02T05:23:09.014242Z"
    }
   },
   "source": [
    "![004.png](attachment:004.png)"
   ]
  },
  {
   "cell_type": "code",
   "execution_count": null,
   "id": "a9ece293",
   "metadata": {
    "ExecuteTime": {
     "end_time": "2022-12-02T12:03:41.236852Z",
     "start_time": "2022-12-02T12:03:41.217856Z"
    }
   },
   "outputs": [],
   "source": [
    "#array[ row_start_idx:row_stop_idx  , col_start_idx: col_stop_idx] ==> [ 1: , 3:5] \n",
    "ny_arr[ 1: , 3:5]"
   ]
  },
  {
   "attachments": {
    "005.png": {
     "image/png": "[encoded data removed]"
    }
   },
   "cell_type": "markdown",
   "id": "da7d708f",
   "metadata": {},
   "source": [
    "![005.png](attachment:005.png)"
   ]
  },
  {
   "cell_type": "code",
   "execution_count": null,
   "id": "a5f068ec",
   "metadata": {
    "ExecuteTime": {
     "end_time": "2022-12-02T12:03:43.642979Z",
     "start_time": "2022-12-02T12:03:43.623980Z"
    }
   },
   "outputs": [],
   "source": [
    "#array[ row_start_idx:row_stop_idx  , col_start_idx: col_stop_idx] ==> [ 0:2 , 0:3] \n",
    "ny_arr[ 0:2 , 0:3]"
   ]
  },
  {
   "cell_type": "code",
   "execution_count": null,
   "id": "ae10e0ca",
   "metadata": {
    "ExecuteTime": {
     "end_time": "2022-12-02T12:03:44.559142Z",
     "start_time": "2022-12-02T12:03:44.541132Z"
    },
    "scrolled": true
   },
   "outputs": [],
   "source": [
    "#indexing from 18- 20\n",
    "ny_arr[3,2:]"
   ]
  },
  {
   "cell_type": "code",
   "execution_count": null,
   "id": "dbd2d30f",
   "metadata": {
    "ExecuteTime": {
     "end_time": "2022-12-02T12:03:45.289143Z",
     "start_time": "2022-12-02T12:03:45.280162Z"
    }
   },
   "outputs": [],
   "source": [
    "#Appending and deleeting elements from an array"
   ]
  },
  {
   "cell_type": "code",
   "execution_count": null,
   "id": "bd470b6f",
   "metadata": {
    "ExecuteTime": {
     "end_time": "2022-12-02T12:03:46.022142Z",
     "start_time": "2022-12-02T12:03:46.008140Z"
    }
   },
   "outputs": [],
   "source": [
    "#creating an array\n",
    "new_array = np.linspace(1,10,10).reshape(5,2)"
   ]
  },
  {
   "cell_type": "code",
   "execution_count": null,
   "id": "2f12cb43",
   "metadata": {
    "ExecuteTime": {
     "end_time": "2022-12-02T12:03:46.748158Z",
     "start_time": "2022-12-02T12:03:46.727158Z"
    }
   },
   "outputs": [],
   "source": [
    "new_array"
   ]
  },
  {
   "cell_type": "code",
   "execution_count": null,
   "id": "b2b3cb9d",
   "metadata": {
    "ExecuteTime": {
     "end_time": "2022-12-02T12:03:47.651342Z",
     "start_time": "2022-12-02T12:03:47.628341Z"
    }
   },
   "outputs": [],
   "source": [
    "\"\"\"numpy.append(array, values, axis=None)\n",
    "\n",
    "We can append values to ndarrays using the np.append(ndarray, elements, axis) function. \n",
    "This function appends the given list of elements to ndarray along the specified axis\n",
    "\n",
    "it does not change the array, instead it returns a copy, with elements appended to the specidfied axis\n",
    "\"\"\"\n",
    "#append rows\n",
    "row_append_arr = np.append(new_array, [[3,8]], axis=0)\n",
    "print(row_append_arr)\n",
    "\n",
    "print(\"\\n\")\n",
    "#append column\n",
    "col_append_arr = np.append(new_array, [[3], [4], [1.3], [5.2], [3]], axis=1)\n",
    "print(col_append_arr)"
   ]
  },
  {
   "cell_type": "code",
   "execution_count": null,
   "id": "5aaf9818",
   "metadata": {
    "ExecuteTime": {
     "end_time": "2022-12-02T12:03:48.375344Z",
     "start_time": "2022-12-02T12:03:48.355340Z"
    }
   },
   "outputs": [],
   "source": [
    "\"\"\"delete elements from an array\n",
    "    np.delete(arr, obj, axis=None)\n",
    "Return a new array with sub-arrays along an axis deleted. For a one\n",
    "dimensional array.\n",
    "\n",
    "obj -  Indicate indices of sub-arrays to remove along the specified axis.\n",
    "\"\"\"\n",
    "arr = np.array([[1,2,3,4], [5,6,7,8], [9,10,11,12]])\n",
    "print(np.delete(arr, 1, axis=0)) #allong axis 1(row) remove second row (index 1)"
   ]
  },
  {
   "cell_type": "code",
   "execution_count": null,
   "id": "524e7988",
   "metadata": {
    "ExecuteTime": {
     "end_time": "2022-12-02T12:03:49.169343Z",
     "start_time": "2022-12-02T12:03:49.158340Z"
    }
   },
   "outputs": [],
   "source": [
    "#stack array vstack and hstack"
   ]
  },
  {
   "cell_type": "code",
   "execution_count": null,
   "id": "42f1975c",
   "metadata": {
    "ExecuteTime": {
     "end_time": "2022-12-02T12:03:49.877269Z",
     "start_time": "2022-12-02T12:03:49.855258Z"
    }
   },
   "outputs": [],
   "source": [
    "arr = np.random.randint(2, 18, (3,5))\n",
    "arr"
   ]
  },
  {
   "cell_type": "code",
   "execution_count": null,
   "id": "7262ee89",
   "metadata": {
    "ExecuteTime": {
     "end_time": "2022-12-02T12:03:50.632269Z",
     "start_time": "2022-12-02T12:03:50.610265Z"
    }
   },
   "outputs": [],
   "source": [
    "elem = np.array([[4,5,6,7,2]])\n",
    "elem"
   ]
  },
  {
   "cell_type": "code",
   "execution_count": null,
   "id": "ff651223",
   "metadata": {
    "ExecuteTime": {
     "end_time": "2022-12-02T12:03:51.369344Z",
     "start_time": "2022-12-02T12:03:51.345339Z"
    }
   },
   "outputs": [],
   "source": [
    "\"\"\"\n",
    "vertical stacking  row wise stacking , stacking arrays on top each other\n",
    "#note \n",
    "The arrays must have the same shape along all but the first axis.\n",
    "1-D arrays must have the same length\n",
    "\"\"\" \n",
    "np.vstack((arr, elem))"
   ]
  },
  {
   "cell_type": "code",
   "execution_count": null,
   "id": "afa55afc",
   "metadata": {
    "ExecuteTime": {
     "end_time": "2022-12-02T12:03:52.084340Z",
     "start_time": "2022-12-02T12:03:52.060339Z"
    }
   },
   "outputs": [],
   "source": [
    "\"\"\"\n",
    "horizontal stacking column wise stacking, stacking arrays side by side\n",
    "#note \n",
    "The arrays must have the same shape along all but the second axis,\n",
    "except 1-D arrays which can be any length \n",
    "\"\"\"\n",
    "helem = np.array([[3],[6],[2]])\n",
    "\n",
    "np.hstack((arr, helem))"
   ]
  },
  {
   "cell_type": "code",
   "execution_count": null,
   "id": "3ca03989",
   "metadata": {
    "ExecuteTime": {
     "end_time": "2022-12-02T12:03:52.863337Z",
     "start_time": "2022-12-02T12:03:52.853336Z"
    }
   },
   "outputs": [],
   "source": [
    "#spliting arrays vsplit and hsplit"
   ]
  },
  {
   "cell_type": "code",
   "execution_count": null,
   "id": "b1a7a5c2",
   "metadata": {
    "ExecuteTime": {
     "end_time": "2022-12-02T12:03:53.657337Z",
     "start_time": "2022-12-02T12:03:53.632339Z"
    }
   },
   "outputs": [],
   "source": [
    "\"\"\"\n",
    "There are functions that can be used to split an array on a specified axis, in equal fractions.\n",
    "np.vsplit() and np.hsplit()\n",
    "Split an array into multiple sub-arrays of equal size.\n",
    "\"\"\"\n",
    "my_array = np.arange(1, 51).reshape(10, 5)\n",
    "\n",
    "#Split an array into multiple sub-arrays vertically (row-wise).\n",
    "arr1, arr2 = np.vsplit(my_array, 2) \n",
    "#note i'd get an error if the no of fraction is 3, cus 50 divided by 3 won't give you a whole number \n",
    "\n",
    "print(arr1.shape)\n",
    "print(arr2.shape)\n",
    "\n",
    "\n",
    "print(arr1)\n",
    "print(\"\\n\")\n",
    "print(arr2)"
   ]
  },
  {
   "cell_type": "code",
   "execution_count": null,
   "id": "f77b27a9",
   "metadata": {
    "ExecuteTime": {
     "end_time": "2022-12-02T12:03:54.473334Z",
     "start_time": "2022-12-02T12:03:54.448336Z"
    }
   },
   "outputs": [],
   "source": [
    "#Split an array into multiple sub-arrays horizontally (column-wise).\n",
    "#i want the array divided into two fraction horizontally \n",
    "#note i can't use my_array, because i can't divide 5 into two equal WHOLE part. i need to reshape it\n",
    "\n",
    "my_array = my_array.reshape(5, 10)\n",
    "arr1, arr2 = np.hsplit(my_array, 2) \n",
    "\n",
    "print(arr1.shape)\n",
    "print(arr2.shape)\n",
    "\n",
    "print(arr1)\n",
    "print(\"\\n\")\n",
    "print(arr2)"
   ]
  },
  {
   "cell_type": "code",
   "execution_count": null,
   "id": "4d90304e",
   "metadata": {
    "ExecuteTime": {
     "end_time": "2022-12-02T12:03:55.313338Z",
     "start_time": "2022-12-02T12:03:55.289338Z"
    }
   },
   "outputs": [],
   "source": [
    "#Boolean indexing - index based on a condition\n",
    "X = np.arange(0,25).reshape(5,5)\n",
    "X"
   ]
  },
  {
   "cell_type": "code",
   "execution_count": null,
   "id": "e87ab922",
   "metadata": {
    "ExecuteTime": {
     "end_time": "2022-12-02T12:03:56.129335Z",
     "start_time": "2022-12-02T12:03:56.051343Z"
    },
    "scrolled": true
   },
   "outputs": [],
   "source": [
    "#all the elements of the array gt 3\n",
    "X[X>3]"
   ]
  },
  {
   "cell_type": "code",
   "execution_count": null,
   "id": "7fb86431",
   "metadata": {
    "ExecuteTime": {
     "end_time": "2022-12-02T12:03:56.848845Z",
     "start_time": "2022-12-02T12:03:56.829835Z"
    }
   },
   "outputs": [],
   "source": [
    "#all the odd integers in the array\n",
    "X[X % 2 != 0]"
   ]
  },
  {
   "cell_type": "code",
   "execution_count": null,
   "id": "ec487744",
   "metadata": {
    "ExecuteTime": {
     "end_time": "2022-12-02T12:03:57.666808Z",
     "start_time": "2022-12-02T12:03:57.647797Z"
    }
   },
   "outputs": [],
   "source": [
    "#Arithmetic operation and broad casting (element wise operation)\n",
    "#Broadcasting is an operation performed on each element in the array, \n",
    "#the operation is braodcasted along all the element in the array\n",
    "\n",
    "x = np.random.randint(3,11, (4,5))\n",
    "y = np.random.randint(4,72, (4,5))\n",
    "print(x)\n",
    "print(\"\\n\")\n",
    "print(y)"
   ]
  },
  {
   "cell_type": "code",
   "execution_count": null,
   "id": "c6c81a7a",
   "metadata": {
    "ExecuteTime": {
     "end_time": "2022-12-02T12:03:58.480663Z",
     "start_time": "2022-12-02T12:03:58.420661Z"
    }
   },
   "outputs": [],
   "source": [
    "np.add(x,y) #(element wise operation)"
   ]
  },
  {
   "cell_type": "code",
   "execution_count": null,
   "id": "568fde00",
   "metadata": {
    "ExecuteTime": {
     "end_time": "2022-12-02T12:03:59.310128Z",
     "start_time": "2022-12-02T12:03:59.291125Z"
    }
   },
   "outputs": [],
   "source": [
    "np.subtract(x,y) #(element wise operation)"
   ]
  },
  {
   "cell_type": "code",
   "execution_count": null,
   "id": "df77c086",
   "metadata": {
    "ExecuteTime": {
     "end_time": "2022-12-02T12:04:00.166587Z",
     "start_time": "2022-12-02T12:04:00.146586Z"
    }
   },
   "outputs": [],
   "source": [
    "np.multiply(x,y) #(element wise operation)"
   ]
  },
  {
   "cell_type": "code",
   "execution_count": null,
   "id": "ae38e570",
   "metadata": {
    "ExecuteTime": {
     "end_time": "2022-12-02T12:04:00.986629Z",
     "start_time": "2022-12-02T12:04:00.964630Z"
    }
   },
   "outputs": [],
   "source": [
    "np.divide(x,y) #(element wise operation)"
   ]
  },
  {
   "cell_type": "code",
   "execution_count": null,
   "id": "869fc2a6",
   "metadata": {
    "ExecuteTime": {
     "end_time": "2022-12-02T12:04:01.874634Z",
     "start_time": "2022-12-02T12:04:01.854634Z"
    }
   },
   "outputs": [],
   "source": [
    "np.sqrt(x) #(element wise operation)"
   ]
  },
  {
   "cell_type": "code",
   "execution_count": null,
   "id": "29990521",
   "metadata": {
    "ExecuteTime": {
     "end_time": "2022-12-02T12:04:02.793000Z",
     "start_time": "2022-12-02T12:04:02.768983Z"
    }
   },
   "outputs": [],
   "source": [
    "np.sqrt(y) #(element wise operation)"
   ]
  },
  {
   "cell_type": "code",
   "execution_count": null,
   "id": "d5dad968",
   "metadata": {
    "ExecuteTime": {
     "end_time": "2022-12-02T12:04:03.772535Z",
     "start_time": "2022-12-02T12:04:03.732534Z"
    }
   },
   "outputs": [],
   "source": [
    "np.power(x,2) #(element wise operation)"
   ]
  },
  {
   "cell_type": "code",
   "execution_count": null,
   "id": "b51b86a2",
   "metadata": {
    "ExecuteTime": {
     "end_time": "2022-12-02T12:04:04.629315Z",
     "start_time": "2022-12-02T12:04:04.609310Z"
    }
   },
   "outputs": [],
   "source": [
    "np.power(y,3)"
   ]
  },
  {
   "cell_type": "code",
   "execution_count": null,
   "id": "afa0f3a9",
   "metadata": {
    "ExecuteTime": {
     "end_time": "2022-12-02T12:04:05.532791Z",
     "start_time": "2022-12-02T12:04:05.512854Z"
    }
   },
   "outputs": [],
   "source": [
    "#statistical function\n",
    "x"
   ]
  },
  {
   "cell_type": "code",
   "execution_count": null,
   "id": "58078007",
   "metadata": {
    "ExecuteTime": {
     "end_time": "2022-12-02T12:04:06.386224Z",
     "start_time": "2022-12-02T12:04:06.344223Z"
    }
   },
   "outputs": [],
   "source": [
    "x.mean() #all element in the array"
   ]
  },
  {
   "cell_type": "code",
   "execution_count": null,
   "id": "30d05bd6",
   "metadata": {
    "ExecuteTime": {
     "end_time": "2022-12-02T12:04:07.263036Z",
     "start_time": "2022-12-02T12:04:07.242024Z"
    }
   },
   "outputs": [],
   "source": [
    "x.mean(axis=0) #mean along row"
   ]
  },
  {
   "cell_type": "code",
   "execution_count": null,
   "id": "22dd4f7a",
   "metadata": {
    "ExecuteTime": {
     "end_time": "2022-12-02T12:04:08.150779Z",
     "start_time": "2022-12-02T12:04:08.111778Z"
    }
   },
   "outputs": [],
   "source": [
    "x.mean(axis=1) #mean along column"
   ]
  },
  {
   "cell_type": "code",
   "execution_count": null,
   "id": "73d898c8",
   "metadata": {
    "ExecuteTime": {
     "end_time": "2022-12-02T12:04:08.952841Z",
     "start_time": "2022-12-02T12:04:08.934839Z"
    }
   },
   "outputs": [],
   "source": [
    "x.sum()"
   ]
  },
  {
   "cell_type": "code",
   "execution_count": null,
   "id": "4b876faa",
   "metadata": {
    "ExecuteTime": {
     "end_time": "2022-12-02T12:04:09.863658Z",
     "start_time": "2022-12-02T12:04:09.844643Z"
    }
   },
   "outputs": [],
   "source": [
    "x.sum(axis=0) #sum along row"
   ]
  },
  {
   "cell_type": "code",
   "execution_count": null,
   "id": "a9171b3c",
   "metadata": {
    "ExecuteTime": {
     "end_time": "2022-12-02T12:04:10.699108Z",
     "start_time": "2022-12-02T12:04:10.662107Z"
    }
   },
   "outputs": [],
   "source": [
    "X.sum(axis=1) #sum along columns"
   ]
  },
  {
   "cell_type": "code",
   "execution_count": null,
   "id": "fc8fa842",
   "metadata": {
    "ExecuteTime": {
     "end_time": "2022-12-02T12:04:11.504438Z",
     "start_time": "2022-12-02T12:04:11.486435Z"
    }
   },
   "outputs": [],
   "source": [
    "x.max() #max value in the array"
   ]
  },
  {
   "cell_type": "code",
   "execution_count": null,
   "id": "90147bd8",
   "metadata": {
    "ExecuteTime": {
     "end_time": "2022-12-02T12:04:12.351428Z",
     "start_time": "2022-12-02T12:04:12.289426Z"
    }
   },
   "outputs": [],
   "source": [
    "np.median(x) #median value of the array"
   ]
  },
  {
   "cell_type": "code",
   "execution_count": null,
   "id": "6cd588da",
   "metadata": {
    "ExecuteTime": {
     "end_time": "2022-12-02T12:04:13.135428Z",
     "start_time": "2022-12-02T12:04:13.106428Z"
    }
   },
   "outputs": [],
   "source": [
    "np.std(x) #std of the array"
   ]
  },
  {
   "cell_type": "code",
   "execution_count": null,
   "id": "37934fe3",
   "metadata": {
    "ExecuteTime": {
     "end_time": "2022-12-02T12:04:13.966744Z",
     "start_time": "2022-12-02T12:04:13.929719Z"
    }
   },
   "outputs": [],
   "source": [
    "x.min() #min value in the array"
   ]
  },
  {
   "cell_type": "code",
   "execution_count": null,
   "id": "31f31e1b",
   "metadata": {
    "ExecuteTime": {
     "end_time": "2022-12-02T12:04:14.710461Z",
     "start_time": "2022-12-02T12:04:14.694463Z"
    }
   },
   "outputs": [],
   "source": [
    "#broadcasting\n",
    "print(x -3)"
   ]
  },
  {
   "cell_type": "code",
   "execution_count": null,
   "id": "00ca6f77",
   "metadata": {
    "ExecuteTime": {
     "end_time": "2022-12-02T12:04:16.372527Z",
     "start_time": "2022-12-02T12:04:16.352459Z"
    }
   },
   "outputs": [],
   "source": [
    "x / 3"
   ]
  },
  {
   "cell_type": "code",
   "execution_count": null,
   "id": "0b77e2d2",
   "metadata": {
    "ExecuteTime": {
     "end_time": "2022-12-02T12:04:17.132706Z",
     "start_time": "2022-12-02T12:04:17.113635Z"
    }
   },
   "outputs": [],
   "source": [
    "x * 2"
   ]
  },
  {
   "cell_type": "code",
   "execution_count": null,
   "id": "ffaf6399",
   "metadata": {},
   "outputs": [],
   "source": []
  },
  {
   "cell_type": "code",
   "execution_count": null,
   "id": "15ff5283",
   "metadata": {},
   "outputs": [],
   "source": []
  }
 ],
 "metadata": {
  "kernelspec": {
   "display_name": "Python 3 (ipykernel)",
   "language": "python",
   "name": "python3"
  },
  "language_info": {
   "codemirror_mode": {
    "name": "ipython",
    "version": 3
   },
   "file_extension": ".py",
   "mimetype": "text/x-python",
   "name": "python",
   "nbconvert_exporter": "python",
   "pygments_lexer": "ipython3",
   "version": "3.9.13"
  }
 },
 "nbformat": 4,
 "nbformat_minor": 5
}
